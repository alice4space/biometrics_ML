{
 "cells": [
  {
   "cell_type": "code",
   "execution_count": 17,
   "metadata": {},
   "outputs": [],
   "source": [
    "import os\n",
    "import numpy as np"
   ]
  },
  {
   "cell_type": "code",
   "execution_count": 18,
   "metadata": {},
   "outputs": [
    {
     "name": "stdout",
     "output_type": "stream",
     "text": [
      "['VP42', 'VP38', 'VP11', 'VP14', 'VP54', 'VP45', 'VP20', 'VP47', 'VP48', 'VP57', 'VP61', 'VP53', 'VP80', 'VP41', 'VP33', 'VP73', 'VP74', 'VP27', 'VP63', 'VP70', 'VP69', 'VP35', 'VP76', 'VP09', 'VP68', 'VP51', 'VP30', 'VP44', 'VP02', 'VP29', 'VP15', 'VP03', 'VP78', 'VP66', 'VP62', 'VP59', 'VP32', 'VP65', 'VP72', 'VP71', 'VP06', 'VP36', 'VP64', 'VP12', 'VP75', 'VP05', 'VP39', 'VP56', 'VP17', 'VP26', 'VP08', 'VP77', 'VP79', 'VP23', 'VP18', 'VP50', 'VP24']\n"
     ]
    }
   ],
   "source": [
    "root = \"spiderdata\"\n",
    "subjects = [ f.path[len(root)+1:] for f in os.scandir(root) if f.is_dir() ]\n",
    "print(subjects)\n",
    "#subjects = [x[0] for x in os.walk(root)]"
   ]
  },
  {
   "cell_type": "code",
   "execution_count": 26,
   "metadata": {},
   "outputs": [],
   "source": [
    "for subject in subjects[:1]:\n",
    "    BR_string = []\n",
    "    BR_file = os.path.join(root,subject,\"BitalinoBR.txt\")\n",
    "    with open(BR_file) as ff:\n",
    "        ss = ff.readlines() # read all strings in a string array \n",
    "    for s in ss:\n",
    "        BR_string.append(s.split('\\t')[0])\n",
    "        \n",
    "    EC_string = []\n",
    "    EC_file = os.path.join(root,subject,\"BitalinoECG.txt\")\n",
    "    with open(EC_file) as ff:\n",
    "        ss = ff.readlines() # read all strings in a string array \n",
    "    for s in ss:\n",
    "        EC_string.append(s.split('\\t')[0])\n",
    "    \n",
    "    GS_string = []\n",
    "    GS_file = os.path.join(root,subject,\"BitalinoGSR.txt\")\n",
    "    with open(GS_file) as ff:\n",
    "        ss = ff.readlines() # read all strings in a string array \n",
    "    for s in ss:\n",
    "        GS_string.append(s.split('\\t')[0])\n",
    "    \n",
    "    D = max([len(BR_string),len(EC_string),len(GS_string)])\n",
    "    \n",
    "    A = np.zeros((3,D))\n",
    "    A[0,:] = BR_string[:D]\n",
    "    A[1,:] = EC_string[:D]\n",
    "    A[2,:] = GS_string[:D]\n",
    "    \n",
    "    #np.savetxt(subject + '.txt',A)\n",
    "    np.save('spiderdata/' + subject + '.npy',A)\n"
   ]
  },
  {
   "cell_type": "code",
   "execution_count": 28,
   "metadata": {},
   "outputs": [
    {
     "data": {
      "text/plain": [
       "array([ 0.23730469,  1.03125   ,  0.81152344, -0.24609375, -0.31933594,\n",
       "       -0.24316406, -0.22851562, -0.21972656, -0.18457031, -0.15527344,\n",
       "       -0.12011719, -0.12011719, -0.08496094, -0.06738281, -0.03515625,\n",
       "       -0.01171875,  0.01757812,  0.01757812,  0.04394531,  0.0703125 ,\n",
       "        0.06738281,  0.05273438,  0.06152344,  0.04101562,  0.0234375 ,\n",
       "       -0.01464844, -0.04101562, -0.07324219, -0.07324219, -0.07910156,\n",
       "       -0.10253906, -0.09082031, -0.07324219, -0.06152344, -0.05859375,\n",
       "       -0.05273438, -0.03222656, -0.01464844, -0.01464844, -0.00585938,\n",
       "       -0.00292969, -0.00585938, -0.01171875, -0.02050781, -0.02636719,\n",
       "       -0.02636719, -0.01464844, -0.01757812,  0.05859375,  0.07617188,\n",
       "        0.08789062,  0.10253906,  0.09082031,  0.06445312, -0.0234375 ,\n",
       "       -0.10546875, -0.1171875 , -0.13769531, -0.10839844, -0.10253906,\n",
       "       -0.11132812, -0.16992188,  0.15234375,  0.93457031,  0.91992188,\n",
       "       -0.19335938, -0.33984375, -0.23730469, -0.234375  , -0.22265625,\n",
       "       -0.19921875, -0.16113281, -0.13183594, -0.12304688, -0.10253906,\n",
       "       -0.0703125 , -0.03515625, -0.0234375 , -0.00585938,  0.01171875,\n",
       "        0.03808594,  0.05566406,  0.05859375,  0.0703125 ,  0.05566406,\n",
       "        0.04394531,  0.0234375 , -0.00878906, -0.03222656, -0.0703125 ,\n",
       "       -0.0703125 , -0.10253906, -0.08789062, -0.09375   , -0.07910156,\n",
       "       -0.06738281, -0.04101562, -0.03515625, -0.02050781, -0.03222656])"
      ]
     },
     "execution_count": 28,
     "metadata": {},
     "output_type": "execute_result"
    }
   ],
   "source": [
    "A[1,:100]"
   ]
  },
  {
   "cell_type": "code",
   "execution_count": null,
   "metadata": {},
   "outputs": [],
   "source": []
  }
 ],
 "metadata": {
  "kernelspec": {
   "display_name": "Python 3",
   "language": "python",
   "name": "python3"
  },
  "language_info": {
   "codemirror_mode": {
    "name": "ipython",
    "version": 3
   },
   "file_extension": ".py",
   "mimetype": "text/x-python",
   "name": "python",
   "nbconvert_exporter": "python",
   "pygments_lexer": "ipython3",
   "version": "3.7.5"
  }
 },
 "nbformat": 4,
 "nbformat_minor": 2
}
